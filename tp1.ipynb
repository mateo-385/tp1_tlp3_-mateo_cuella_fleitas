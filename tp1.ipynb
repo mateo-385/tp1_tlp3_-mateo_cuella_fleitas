{
 "cells": [
  {
   "cell_type": "markdown",
   "metadata": {},
   "source": [
    "# Criterios de evaluación.\n",
    "\n",
    "* Se deben utilizar nombres de variables descriptivos y claros (Utilizar la nomeclatura correspondiente para los nombres de variables).\n",
    "* Comentarios claros y concisos que expliquen el propósito de cada sección del código.\n",
    "* Entrega en tiempo y forma.\n",
    "* Todo el código desarrollado debe ser subido a un repositorio en GitHub (el nombre del repositorio de seguir la siguiente estructura: tp1_tlp3_nombre_apellido).\n",
    "\n",
    "\n",
    "**Aclaración: Para resolver las actividades se debe incertar casillas de codigo entre cada actividad del cuaderno de Jupyter**"
   ]
  },
  {
   "cell_type": "markdown",
   "metadata": {},
   "source": [
    "### 1. **Hola Mundo y Variables**\n",
    "\n",
    "   - **Actividad 1.1**: Deben escribir un programa que imprima \"¡Hola, Mundo!\" en la consola.\n",
    "   - **Actividad 1.2**: Deben crear una variable llamada `nombre` y hacer que el programa imprima un saludo personalizado: `Hola, <nombre>!`"
   ]
  },
  {
   "cell_type": "code",
   "execution_count": null,
   "metadata": {},
   "outputs": [],
   "source": [
    "#1.1\n",
    "print(\"¡Hola Mundo!\")\n",
    "\n",
    "#1.2\n",
    "nombre = \"Mateo\"\n",
    "print (\"Hola, \" + nombre + \"!\")"
   ]
  },
  {
   "cell_type": "markdown",
   "metadata": {},
   "source": [
    "### 2. **Operaciones Matemáticas Básicas**\n",
    "\n",
    "   - **Actividad 1.1**: Crear un programa que pida al usuario dos números y realice las cuatro operaciones matemáticas básicas (suma, resta, multiplicación y división), imprimiendo los resultados.\n",
    "   - **Actividad 1.2**: Hacer que el programa calcule el promedio de los dos números."
   ]
  },
  {
   "cell_type": "code",
   "execution_count": null,
   "metadata": {},
   "outputs": [],
   "source": [
    "\n",
    "#1.1 \n",
    "num1 = float(input(\"Ingresa el primer número\"))\n",
    "num2 = float(input(\"Ingresa el segundo número\"))\n",
    "\n",
    "suma = num1 + num2\n",
    "resta = num1 - num2\n",
    "mult = num1 * num2\n",
    "if num2 == 0:\n",
    "    div = None\n",
    "    div_message = \"No se puede dividir por 0\"\n",
    "else:\n",
    "    div = num1 / num2\n",
    "    div_message = div\n",
    "print(\"Resultados\")\n",
    "print(\"Suma: \" , suma)\n",
    "print(\"Resta: \" , resta)\n",
    "print(\"Multiplicación: \", mult)\n",
    "print(\"División: \" , div_message)\n",
    "\n",
    "#1.2\n",
    "promedio = (num1 + num2 ) / 2\n",
    "print(\"Promedio: \", round(promedio, 1))"
   ]
  },
  {
   "cell_type": "markdown",
   "metadata": {},
   "source": [
    "### 3. **Condicionales (if-else)**\n",
    "\n",
    "   - **Actividad 1.1**: Escribir un programa que pida al usuario su edad y le diga si es mayor de edad (18 años o más).\n",
    "   - **Actividad 1.2**: Agregar un mensaje diferente para diferentes rangos de edad, como por ejemplo, si es un niño, adolescente o adulto."
   ]
  },
  {
   "cell_type": "code",
   "execution_count": null,
   "metadata": {},
   "outputs": [],
   "source": [
    "\n",
    "#1.1\n",
    "edad = int(input(\"Ingrese su edad:\"))\n",
    "if edad >= 18:\n",
    "    print(\"Eres mayor de edad\")\n",
    "\n",
    "#1.2\n",
    "if edad > 0 and edad < 13:\n",
    "    print(\"Eres un niño\")\n",
    "elif edad >= 13 and edad < 18:\n",
    "    print(\"Eres un adolescente\")\n",
    "elif edad >= 18:\n",
    "    print(\"Eres un adulto\")\n"
   ]
  },
  {
   "cell_type": "markdown",
   "metadata": {},
   "source": [
    "### 4. **Ciclos (while, for)**\n",
    "\n",
    "   - **Actividad 1.1**: Escribir un programa que imprima los números del 1 al 10 usando un bucle `for`.\n",
    "   - **Actividad 1.2**: Usar un bucle `while` para imprimir los números del 1 al 10, e imprimir solo aquellos números que sean divisibles por 2."
   ]
  },
  {
   "cell_type": "code",
   "execution_count": null,
   "metadata": {},
   "outputs": [],
   "source": [
    "\n",
    "#1.1\n",
    "for i in range(1,11):\n",
    "    print(i)\n",
    "\n",
    "#1.2\n",
    "print(\"\\nNúmeros divisibles por 2:\")\n",
    "contador = 1\n",
    "while contador < 10:\n",
    "    if contador % 2 == 0:\n",
    "        print(contador)\n",
    "    contador = contador +1"
   ]
  },
  {
   "cell_type": "markdown",
   "metadata": {},
   "source": [
    "### 5. **Listas y Bucles**\n",
    "\n",
    "   - **Actividad 1.1**: Crear una lista con 5 números y escribir un programa que imprima cada número de la lista usando un bucle `for`.\n",
    "   - **Actividad 1.2**: Usar un bucle para calcular la suma de los números de la lista."
   ]
  },
  {
   "cell_type": "code",
   "execution_count": null,
   "metadata": {},
   "outputs": [],
   "source": [
    "\n",
    "#1.1\n",
    "numeros = [1,2,3,4,5]\n",
    "\n",
    "for i in range(len(numeros)):\n",
    "    print(numeros[i])\n",
    "\n",
    "#1.2\n",
    "suma = 0\n",
    "for i in range(len(numeros)):\n",
    "    suma = suma + numeros[i] \n",
    "print(suma)\n"
   ]
  },
  {
   "cell_type": "markdown",
   "metadata": {},
   "source": [
    "### 6. **Funciones**\n",
    "\n",
    "   - **Actividad 1.1**: Escribir una función llamada `saludo` que reciba un nombre como parámetro y devuelva un saludo personalizado.\n",
    "   - **Actividad 1.2**: Crear una función que reciba dos números y devuelva su suma, resta, multiplicación y división."
   ]
  },
  {
   "cell_type": "code",
   "execution_count": null,
   "metadata": {},
   "outputs": [],
   "source": [
    "\n",
    "#1.1\n",
    "def saludo(nombre):\n",
    "    print(f\"¡Hola, {nombre}!\")\n",
    "\n",
    "saludo(\"Mateo\")\n",
    "\n",
    "#1.2\n",
    "def calc(num1, num2):\n",
    "    suma = num1 + num2\n",
    "    resta = num1 - num2\n",
    "    mult = num1 * num2\n",
    "    if num2 == 0:\n",
    "        div = None\n",
    "        div_message = \"No se puede dividir por 0\"\n",
    "    else:\n",
    "        div = num1 / num2\n",
    "        div_message = div\n",
    "    print(\"Resultados\")\n",
    "    print(f\"Suma: {suma}\")\n",
    "    print(f\"Resta: {resta}\")\n",
    "    print(f\"Multiplicación: {mult}\")\n",
    "    print(f\"División: {div_message}\")\n",
    "\n",
    "calc(10,5)\n",
    "    "
   ]
  },
  {
   "cell_type": "markdown",
   "metadata": {},
   "source": [
    "### 7. **Manejo de cadenas de texto**\n",
    "\n",
    "   - **Actividad 1.1**: Escribir un programa que pida al usuario su nombre y lo imprima en mayúsculas y en minúsculas.\n",
    "   - **Actividad 1.2**: Hacer que el programa imprima la longitud del nombre ingresado (no tener en cuenta los espacios en blanco)."
   ]
  },
  {
   "cell_type": "code",
   "execution_count": null,
   "metadata": {},
   "outputs": [],
   "source": [
    "#1.1\n",
    "nombre = input(\"Ingrese su nombre\")\n",
    "\n",
    "print(nombre.upper())\n",
    "print(nombre.lower())\n",
    "\n",
    "#1.2\n",
    "print(len(nombre.replace(\" \", \"\")))"
   ]
  },
  {
   "cell_type": "markdown",
   "metadata": {},
   "source": [
    "### 8. **Diccionarios**\n",
    "\n",
    "   - **Actividad1.1**: Crear un diccionario que contenga los nombres de tres personas como claves y sus edades como valores. El programa debe imprimir la edad de cada persona.\n",
    "   - **Actividad1.2**: Escribir un programa que pregunte al usuario un nombre, luego su edad y los agregue al diccionario."
   ]
  },
  {
   "cell_type": "code",
   "execution_count": null,
   "metadata": {},
   "outputs": [],
   "source": [
    "\n",
    "#1.1\n",
    "personas = {\n",
    "    \"Mateo\": 21,\n",
    "    \"Benja\": 18, \n",
    "    \"Mia\":9\n",
    "}\n",
    "print(personas.values())\n",
    "\n",
    " #1.2\n",
    "nombre = input(\"Ingrese su nombre\")\n",
    "edad = int(input(\"Ingrese su edad\"))\n",
    "personas[nombre] = edad\n",
    "print(personas)"
   ]
  },
  {
   "cell_type": "markdown",
   "metadata": {},
   "source": [
    "### 9. **Números aleatorios**\n",
    "\n",
    "   - **Actividad 1.1**: Escribir un programa que genere 5 números aleatorios entre 1 y 100, lo imprima por consola y diga si es mayor o menor a 50.\n",
    "   - **Actividad 1.2**: Sumar los 5 números generados aleatoriamente y en caso de que el resultado sea mayor a 100, mostrar el valor antes de ser mayor a 100 y cuantos números se sumaron para llegar a dicho valor."
   ]
  },
  {
   "cell_type": "code",
   "execution_count": null,
   "metadata": {},
   "outputs": [],
   "source": [
    "\n",
    "#1.1\n",
    "import random\n",
    "\n",
    "numeros = []\n",
    "for i in range(5):\n",
    "    numero = random.randint(1,100)\n",
    "    numeros.append(numero)\n",
    "    if numero > 50:\n",
    "        print(f\"{numero} es mayor a 50\")\n",
    "    elif numero < 50:\n",
    "        print(f\"{numero} es menor a 50\")\n",
    "    else:\n",
    "        print(numero)\n",
    "\n",
    "    \n",
    "#1.2\n",
    "suma = 0\n",
    "contador = 0\n",
    " \n",
    "for numero in numeros:\n",
    "    suma_anterior = suma\n",
    "    suma += numero\n",
    "    contador += 1\n",
    "    if suma > 100:\n",
    "        print(f\"Valor antes de llegar a 100: {suma_anterior}\")\n",
    "        break\n",
    "\n",
    " "
   ]
  },
  {
   "cell_type": "markdown",
   "metadata": {},
   "source": [
    "### 10. **Proyecto Final: Calculadora**\n",
    "\n",
    "   - **Actividad 1.1**: Los estudiantes deben crear una calculadora básica que permita realizar operaciones de suma, resta, multiplicación y división con entradas del usuario. El programa debe pedir al usuario que elija la operación y luego introducir 2 números para realizar el cálculo.\n",
    "   - **Actividad 1.2**: Implementar una opción para que el usuario pueda continuar haciendo cálculos o salir del programa."
   ]
  },
  {
   "cell_type": "code",
   "execution_count": null,
   "metadata": {},
   "outputs": [],
   "source": [
    "\n",
    "while True:\n",
    "    print(\"\\nEliga una operación:\\n1 - Suma\\n2 - Resta\\n3 - Multiplicación\\n4 - División\\n5 - Salir\")\n",
    "    opcion = int(input(\"Ingrese su elección (1 - 5)\"))\n",
    "    if opcion == 5:\n",
    "        break\n",
    "    elif opcion > 0 and opcion < 5:\n",
    "        num1 = float(input(\"Ingrese el primer número:\"))\n",
    "        num2 = float(input(\"Ingrese el segundo número:\"))\n",
    "\n",
    "        if opcion == 1:\n",
    "            resultado = num1 + num2\n",
    "            print(f\"\\n {num1} + {num2} =  {resultado}\")\n",
    "        elif opcion == 2:\n",
    "            resultado = num1 - num2\n",
    "            print(f\"\\n {num1} - {num2} =  {resultado}\")\n",
    "        elif opcion == 3:\n",
    "            resultado = num1 * num2\n",
    "            print(f\"\\n {num1} x {num2} =  {resultado}\")\n",
    "        elif opcion == 4:\n",
    "            if num2 == 0:\n",
    "                resultado = \"No se puede dividir por 0\"\n",
    "            else:\n",
    "                resultado = num1 / num2\n",
    "            print(f\"\\n {num1} / {num2} =  {resultado}\")\n",
    "\n",
    "        continuar = input(\"\\nPulse cualquier tecla para continuar o 1 para salir\")\n",
    "        if continuar == \"1\":\n",
    "            break"
   ]
  },
  {
   "cell_type": "markdown",
   "metadata": {},
   "source": [
    "### EXTRA. **Juegos Simples (Adivina el número)**\n",
    "\n",
    "   - **Actividad 1.1**: Escribir un juego donde el programa elija un número aleatorio entre 1 y 100 y el usuario tenga que adivinarlo. El programa debe dar pistas si el número es mayor o menor.\n",
    "   - **Actividad 1.2**: Limitar el número de intentos y mostrar un mensaje de éxito o fracaso al final."
   ]
  },
  {
   "cell_type": "code",
   "execution_count": null,
   "metadata": {},
   "outputs": [],
   "source": [
    "import random\n",
    "\n",
    "numero_random = random.randint(1,100)\n",
    "intentos = 6\n",
    "\n",
    "while True:\n",
    "    respuesta = int(input(\"Intente adivinar el número (1 - 100)\"))\n",
    "    if respuesta == numero_random:\n",
    "        print(f\"¡Felicitaciones! El número era {respuesta}\")\n",
    "        break\n",
    "    elif respuesta < numero_random:\n",
    "        print(f\"El número es mayor que {respuesta}\")\n",
    "    elif respuesta > numero_random:\n",
    "        print(f\"El número es menor a {respuesta}\")\n",
    "    intentos -= 1\n",
    "    if intentos == 0:\n",
    "        print(f\"¡Se acabaron los intentos!\\nEl número era {numero_random}\")\n",
    "        break"
   ]
  }
 ],
 "metadata": {
  "kernelspec": {
   "display_name": "Python 3",
   "language": "python",
   "name": "python3"
  },
  "language_info": {
   "codemirror_mode": {
    "name": "ipython",
    "version": 3
   },
   "file_extension": ".py",
   "mimetype": "text/x-python",
   "name": "python",
   "nbconvert_exporter": "python",
   "pygments_lexer": "ipython3",
   "version": "3.13.2"
  }
 },
 "nbformat": 4,
 "nbformat_minor": 2
}
